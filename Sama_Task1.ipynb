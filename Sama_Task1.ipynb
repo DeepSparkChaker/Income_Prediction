{
 "cells": [
  {
   "cell_type": "markdown",
   "metadata": {},
   "source": [
    "# Task1\n",
    "Task 1: Please generate selected insights from the given dataset and communicate the insights and methods that led you to it, including (but not limited to) any code you have written. Imagine you need to present it to a client.\n",
    "\n",
    "Selected insights is enough and there is no need to look for the “best” insight. We will use this task as a starting point for more discussion.\n",
    "\n",
    "The data set is the European Social Survey (ESS) which can be found at http://www.europeansocialsurvey.org/downloadwizard/\n",
    "You will need to register with your email to get access to the dataset.\n",
    "\n",
    "Select the variables you need for your analysis and the interface will give you a zip file with two files:\n",
    "1) a code notebook that describes the variables and\n",
    "2) a CSV data file.\n",
    "# Brief Description :\n",
    "# Introduction\n",
    "The ESS Data Download Wizard gives access to cumulative data from countries that have been included in the integrated ESS files in two or more rounds.\n",
    "In the ESS Data Download Wizard you can generate and download a customised subset of the ESS cumulative file by selecting rounds, countries and variables. The data file can be downloaded in SPSS, Stata, and CSV format. A Study Description and documentation of the selected variables is generated for each customised data file and is included in the download.\n",
    "All variables that have been asked in more than one round are included in the cumulative data file.\n",
    "How to generate a customised subset:\n",
    "Select variables, countries and rounds in any sequence you want. Click on the variable to get full documentation.\n",
    "You can select all variables in a variable group, for example \"Media use and social trust\", or you can select individual variables.\n",
    "\n",
    "        Log in, if not already logged in.\n",
    "        Select download format and click \"Download dataset\".\n",
    "        The following variables are automatically included in the downloaded data by default:\n",
    "        CNAME \"Title of cumulative dataset\"\n",
    "        CEDITION \"Edition of cumulative dataset\"\n",
    "        CPRODDAT \"Production date of cumulative dataset\"\n",
    "        CSEQNO \"Respondent's sequence number in cumulative dataset\",\n",
    "        NAME \"Title of ESS dataset\"\n",
    "        ESSROUND \"ESS round\"\n",
    "        EDITION \"ESS edition\"\n",
    "        IDNO \"Respondent's identification number\"\n",
    "        CNTRY \"Country\"\n",
    "        DWEIGHT \"Design weight\"\n",
    "        PSPWGHT \"Post-stratification weight including design weight\"\n",
    "        ANWEIGHT \"Analylsis weight\"\n",
    "        PWEIGHT \"Population size weight (must be combined with dweight)\".\n",
    "        \n",
    " # Abstract :\n",
    " The European Social Survey (ESS) is an academically-driven multi-country survey, which has been administered in over 30 countries to date. Its three aims are, firstly - to monitor and interpret changing public attitudes and values within Europe and to investigate how they interact with Europe's changing institutions, secondly - to advance and consolidate improved methods of cross-national survey measurement in Europe and beyond, and thirdly - to develop a series of European social indicators, including attitudinal indicators.\n",
    "The cumulative file contains data from countries that have been included in the integrated ESS files in two or more rounds (please see Version notes), and all variables from questions that have been asked in more than one round.\n",
    "\n",
    "The European Social Survey (ESS) is an academically driven cross-national survey that has been conducted across Europe since its establishment in 2001. Every two years, face-to-face interviews are conducted with newly selected, cross-sectional samples.\n",
    "\n",
    "The survey measures the attitudes, beliefs and behaviour patterns of diverse populations in more than thirty nations. The main aims of the ESS are:\n",
    "\n",
    "    to chart stability and change in social structure, conditions and attitudes in Europe and to interpret how Europe’s social, political and moral fabric is changing;\n",
    "    to achieve and spread higher standards of rigour in cross-national research in the social sciences, including for example, questionnaire design and pre-testing, sampling, data collection, reduction of bias and the reliability of questions;\n",
    "    to introduce soundly-based indicators of national progress, based on citizens’ perceptions and judgements of key aspects of their societies;\n",
    "    to undertake and facilitate the training of European social researchers in comparative quantitative measurement and analysis;\n",
    "    to improve the visibility and outreach of data on social change among academics, policy makers and the wider public.\n",
    "    \n",
    "# Context\n",
    "\n",
    "Europe is a vast and diverse continent and it's population is a fascinating subject for sociological studies. The European Social Survey provides great data sets for exactly that purpose. According to their own description, \"The European Social Survey (ESS) is an academically driven cross-national survey that has been conducted across Europe since its establishment in 2001. Every two years, face-to-face interviews are conducted with newly selected, cross-sectional samples. The survey measures the attitudes, beliefs and behaviour patterns of diverse populations in more than thirty nations.\". This data set contains the results of the 8th round of the ESS surveyed in 2016/17.\n",
    "# Content\n",
    "\n",
    "The CSV file contains all the data from the survey. Every row corresponds to an individual respondent and every column is a variable representing a response to a survey question from fields such as media and social trust, politics, subjective well-being, climate change, gender, human values, welfare, or administrative details and weights. For a detailed description of the variables, please refer to the accompanying PDF file or the ESS data website, where you can find all documentation as well as the data of the previous ESS rounds.\n",
    "Be aware that some values (e.g. 66,77,88,99) are used to encode missing, refused, or invalid responses. Refer to the documentation for more details.    \n",
    "    \n",
    "# Data :\n",
    "\n",
    "Data from https://www.europeansocialsurvey.org/. Details about the data can be found in data/EuropeanSocialSurvey_Round_1-8_codebook.html and at http://www.europeansocialsurvey.org/downloadwizard/\n"
   ]
  },
  {
   "cell_type": "code",
   "execution_count": 8,
   "metadata": {},
   "outputs": [],
   "source": [
    "from mpl_toolkits.mplot3d import Axes3D\n",
    "from sklearn.preprocessing import StandardScaler\n",
    "import matplotlib.pyplot as plt # plotting\n",
    "import os # accessing directory structure\n",
    "import numpy as np \n",
    "import pandas as pd \n",
    "import matplotlib.pyplot as plt\n",
    "import seaborn as sns"
   ]
  },
  {
   "cell_type": "code",
   "execution_count": 1,
   "metadata": {},
   "outputs": [
    {
     "name": "stderr",
     "output_type": "stream",
     "text": [
      "C:\\Users\\rzouga\\Anaconda3\\lib\\site-packages\\IPython\\core\\interactiveshell.py:3063: DtypeWarning: Columns (537,542,555,561) have mixed types.Specify dtype option on import or set low_memory=False.\n",
      "  interactivity=interactivity, compiler=compiler, result=result)\n"
     ]
    },
    {
     "data": {
      "text/html": [
       "<div>\n",
       "<style scoped>\n",
       "    .dataframe tbody tr th:only-of-type {\n",
       "        vertical-align: middle;\n",
       "    }\n",
       "\n",
       "    .dataframe tbody tr th {\n",
       "        vertical-align: top;\n",
       "    }\n",
       "\n",
       "    .dataframe thead th {\n",
       "        text-align: right;\n",
       "    }\n",
       "</style>\n",
       "<table border=\"1\" class=\"dataframe\">\n",
       "  <thead>\n",
       "    <tr style=\"text-align: right;\">\n",
       "      <th></th>\n",
       "      <th>cntry</th>\n",
       "      <th>cname</th>\n",
       "      <th>cedition</th>\n",
       "      <th>cproddat</th>\n",
       "      <th>cseqno</th>\n",
       "      <th>name</th>\n",
       "      <th>essround</th>\n",
       "      <th>edition</th>\n",
       "      <th>idno</th>\n",
       "      <th>dweight</th>\n",
       "      <th>...</th>\n",
       "      <th>enjlf</th>\n",
       "      <th>fltsd</th>\n",
       "      <th>cldgng</th>\n",
       "      <th>mnrgtjb</th>\n",
       "      <th>hrshsnt</th>\n",
       "      <th>hrshsnta</th>\n",
       "      <th>pdaprp</th>\n",
       "      <th>pdaprpa</th>\n",
       "      <th>smbtjob</th>\n",
       "      <th>smbtjoba</th>\n",
       "    </tr>\n",
       "  </thead>\n",
       "  <tbody>\n",
       "    <tr>\n",
       "      <th>0</th>\n",
       "      <td>AT</td>\n",
       "      <td>ESS1-9e01</td>\n",
       "      <td>1.0</td>\n",
       "      <td>10.12.2020</td>\n",
       "      <td>1</td>\n",
       "      <td>ESS1e06_6</td>\n",
       "      <td>1</td>\n",
       "      <td>6.6</td>\n",
       "      <td>1</td>\n",
       "      <td>0.9452</td>\n",
       "      <td>...</td>\n",
       "      <td>NaN</td>\n",
       "      <td>NaN</td>\n",
       "      <td>NaN</td>\n",
       "      <td>NaN</td>\n",
       "      <td>NaN</td>\n",
       "      <td>NaN</td>\n",
       "      <td>NaN</td>\n",
       "      <td>NaN</td>\n",
       "      <td>4.0</td>\n",
       "      <td>NaN</td>\n",
       "    </tr>\n",
       "    <tr>\n",
       "      <th>1</th>\n",
       "      <td>AT</td>\n",
       "      <td>ESS1-9e01</td>\n",
       "      <td>1.0</td>\n",
       "      <td>10.12.2020</td>\n",
       "      <td>2</td>\n",
       "      <td>ESS1e06_6</td>\n",
       "      <td>1</td>\n",
       "      <td>6.6</td>\n",
       "      <td>2</td>\n",
       "      <td>0.4726</td>\n",
       "      <td>...</td>\n",
       "      <td>NaN</td>\n",
       "      <td>NaN</td>\n",
       "      <td>NaN</td>\n",
       "      <td>NaN</td>\n",
       "      <td>NaN</td>\n",
       "      <td>NaN</td>\n",
       "      <td>NaN</td>\n",
       "      <td>NaN</td>\n",
       "      <td>66.0</td>\n",
       "      <td>NaN</td>\n",
       "    </tr>\n",
       "    <tr>\n",
       "      <th>2</th>\n",
       "      <td>AT</td>\n",
       "      <td>ESS1-9e01</td>\n",
       "      <td>1.0</td>\n",
       "      <td>10.12.2020</td>\n",
       "      <td>3</td>\n",
       "      <td>ESS1e06_6</td>\n",
       "      <td>1</td>\n",
       "      <td>6.6</td>\n",
       "      <td>3</td>\n",
       "      <td>0.9452</td>\n",
       "      <td>...</td>\n",
       "      <td>NaN</td>\n",
       "      <td>NaN</td>\n",
       "      <td>NaN</td>\n",
       "      <td>NaN</td>\n",
       "      <td>NaN</td>\n",
       "      <td>NaN</td>\n",
       "      <td>NaN</td>\n",
       "      <td>NaN</td>\n",
       "      <td>66.0</td>\n",
       "      <td>NaN</td>\n",
       "    </tr>\n",
       "    <tr>\n",
       "      <th>3</th>\n",
       "      <td>AT</td>\n",
       "      <td>ESS1-9e01</td>\n",
       "      <td>1.0</td>\n",
       "      <td>10.12.2020</td>\n",
       "      <td>4</td>\n",
       "      <td>ESS1e06_6</td>\n",
       "      <td>1</td>\n",
       "      <td>6.6</td>\n",
       "      <td>4</td>\n",
       "      <td>0.9452</td>\n",
       "      <td>...</td>\n",
       "      <td>NaN</td>\n",
       "      <td>NaN</td>\n",
       "      <td>NaN</td>\n",
       "      <td>NaN</td>\n",
       "      <td>NaN</td>\n",
       "      <td>NaN</td>\n",
       "      <td>NaN</td>\n",
       "      <td>NaN</td>\n",
       "      <td>5.0</td>\n",
       "      <td>NaN</td>\n",
       "    </tr>\n",
       "    <tr>\n",
       "      <th>4</th>\n",
       "      <td>AT</td>\n",
       "      <td>ESS1-9e01</td>\n",
       "      <td>1.0</td>\n",
       "      <td>10.12.2020</td>\n",
       "      <td>5</td>\n",
       "      <td>ESS1e06_6</td>\n",
       "      <td>1</td>\n",
       "      <td>6.6</td>\n",
       "      <td>6</td>\n",
       "      <td>1.8905</td>\n",
       "      <td>...</td>\n",
       "      <td>NaN</td>\n",
       "      <td>NaN</td>\n",
       "      <td>NaN</td>\n",
       "      <td>NaN</td>\n",
       "      <td>NaN</td>\n",
       "      <td>NaN</td>\n",
       "      <td>NaN</td>\n",
       "      <td>NaN</td>\n",
       "      <td>66.0</td>\n",
       "      <td>NaN</td>\n",
       "    </tr>\n",
       "  </tbody>\n",
       "</table>\n",
       "<p>5 rows × 1452 columns</p>\n",
       "</div>"
      ],
      "text/plain": [
       "  cntry      cname  cedition    cproddat  cseqno       name  essround  \\\n",
       "0    AT  ESS1-9e01       1.0  10.12.2020       1  ESS1e06_6         1   \n",
       "1    AT  ESS1-9e01       1.0  10.12.2020       2  ESS1e06_6         1   \n",
       "2    AT  ESS1-9e01       1.0  10.12.2020       3  ESS1e06_6         1   \n",
       "3    AT  ESS1-9e01       1.0  10.12.2020       4  ESS1e06_6         1   \n",
       "4    AT  ESS1-9e01       1.0  10.12.2020       5  ESS1e06_6         1   \n",
       "\n",
       "   edition  idno  dweight  ...  enjlf  fltsd  cldgng  mnrgtjb  hrshsnt  \\\n",
       "0      6.6     1   0.9452  ...    NaN    NaN     NaN      NaN      NaN   \n",
       "1      6.6     2   0.4726  ...    NaN    NaN     NaN      NaN      NaN   \n",
       "2      6.6     3   0.9452  ...    NaN    NaN     NaN      NaN      NaN   \n",
       "3      6.6     4   0.9452  ...    NaN    NaN     NaN      NaN      NaN   \n",
       "4      6.6     6   1.8905  ...    NaN    NaN     NaN      NaN      NaN   \n",
       "\n",
       "   hrshsnta  pdaprp  pdaprpa  smbtjob  smbtjoba  \n",
       "0       NaN     NaN      NaN      4.0       NaN  \n",
       "1       NaN     NaN      NaN     66.0       NaN  \n",
       "2       NaN     NaN      NaN     66.0       NaN  \n",
       "3       NaN     NaN      NaN      5.0       NaN  \n",
       "4       NaN     NaN      NaN     66.0       NaN  \n",
       "\n",
       "[5 rows x 1452 columns]"
      ]
     },
     "execution_count": 1,
     "metadata": {},
     "output_type": "execute_result"
    }
   ],
   "source": [
    "import pandas as pd \n",
    "# Read spreadsheet and assign it to swiss_loan\n",
    "ESS_dataset= pd.read_csv('C:/Users/rzouga/Desktop/ALLINHERE/Assignement/Sama/ESS1-9e01_1/ESS1-9e01_1.csv')\n",
    "ESS_dataset.head()"
   ]
  },
  {
   "cell_type": "code",
   "execution_count": 2,
   "metadata": {},
   "outputs": [
    {
     "data": {
      "text/plain": [
       "(8190, 1452)"
      ]
     },
     "execution_count": 2,
     "metadata": {},
     "output_type": "execute_result"
    }
   ],
   "source": [
    "ESS_dataset.shape"
   ]
  },
  {
   "cell_type": "code",
   "execution_count": 3,
   "metadata": {},
   "outputs": [
    {
     "data": {
      "text/plain": [
       "Index(['cntry', 'cname', 'cedition', 'cproddat', 'cseqno', 'name', 'essround',\n",
       "       'edition', 'idno', 'dweight',\n",
       "       ...\n",
       "       'enjlf', 'fltsd', 'cldgng', 'mnrgtjb', 'hrshsnt', 'hrshsnta', 'pdaprp',\n",
       "       'pdaprpa', 'smbtjob', 'smbtjoba'],\n",
       "      dtype='object', length=1452)"
      ]
     },
     "execution_count": 3,
     "metadata": {},
     "output_type": "execute_result"
    }
   ],
   "source": [
    "ESS_dataset.columns"
   ]
  },
  {
   "cell_type": "code",
   "execution_count": 4,
   "metadata": {},
   "outputs": [
    {
     "name": "stdout",
     "output_type": "stream",
     "text": [
      "<class 'pandas.core.frame.DataFrame'>\n",
      "RangeIndex: 8190 entries, 0 to 8189\n",
      "Columns: 1452 entries, cntry to smbtjoba\n",
      "dtypes: float64(1220), int64(220), object(12)\n",
      "memory usage: 90.7+ MB\n"
     ]
    }
   ],
   "source": [
    "ESS_dataset.info()"
   ]
  },
  {
   "cell_type": "code",
   "execution_count": 5,
   "metadata": {},
   "outputs": [
    {
     "data": {
      "text/html": [
       "<div>\n",
       "<style scoped>\n",
       "    .dataframe tbody tr th:only-of-type {\n",
       "        vertical-align: middle;\n",
       "    }\n",
       "\n",
       "    .dataframe tbody tr th {\n",
       "        vertical-align: top;\n",
       "    }\n",
       "\n",
       "    .dataframe thead th {\n",
       "        text-align: right;\n",
       "    }\n",
       "</style>\n",
       "<table border=\"1\" class=\"dataframe\">\n",
       "  <thead>\n",
       "    <tr style=\"text-align: right;\">\n",
       "      <th></th>\n",
       "      <th>cedition</th>\n",
       "      <th>cseqno</th>\n",
       "      <th>essround</th>\n",
       "      <th>edition</th>\n",
       "      <th>idno</th>\n",
       "      <th>dweight</th>\n",
       "      <th>pspwght</th>\n",
       "      <th>pweight</th>\n",
       "      <th>anweight</th>\n",
       "      <th>tvtot</th>\n",
       "      <th>...</th>\n",
       "      <th>enjlf</th>\n",
       "      <th>fltsd</th>\n",
       "      <th>cldgng</th>\n",
       "      <th>mnrgtjb</th>\n",
       "      <th>hrshsnt</th>\n",
       "      <th>hrshsnta</th>\n",
       "      <th>pdaprp</th>\n",
       "      <th>pdaprpa</th>\n",
       "      <th>smbtjob</th>\n",
       "      <th>smbtjoba</th>\n",
       "    </tr>\n",
       "  </thead>\n",
       "  <tbody>\n",
       "    <tr>\n",
       "      <th>count</th>\n",
       "      <td>8190.0</td>\n",
       "      <td>8190.000000</td>\n",
       "      <td>8190.000000</td>\n",
       "      <td>8190.000000</td>\n",
       "      <td>8.190000e+03</td>\n",
       "      <td>8190.000000</td>\n",
       "      <td>8190.000000</td>\n",
       "      <td>8190.000000</td>\n",
       "      <td>8190.000000</td>\n",
       "      <td>8190.000000</td>\n",
       "      <td>...</td>\n",
       "      <td>0.0</td>\n",
       "      <td>0.0</td>\n",
       "      <td>0.0</td>\n",
       "      <td>4034.000000</td>\n",
       "      <td>0.0</td>\n",
       "      <td>0.0</td>\n",
       "      <td>0.0</td>\n",
       "      <td>0.0</td>\n",
       "      <td>4156.000000</td>\n",
       "      <td>4034.000000</td>\n",
       "    </tr>\n",
       "    <tr>\n",
       "      <th>mean</th>\n",
       "      <td>1.0</td>\n",
       "      <td>8005.511355</td>\n",
       "      <td>1.492552</td>\n",
       "      <td>5.122344</td>\n",
       "      <td>9.049577e+07</td>\n",
       "      <td>1.000004</td>\n",
       "      <td>0.999814</td>\n",
       "      <td>0.366826</td>\n",
       "      <td>0.366742</td>\n",
       "      <td>4.356166</td>\n",
       "      <td>...</td>\n",
       "      <td>NaN</td>\n",
       "      <td>NaN</td>\n",
       "      <td>NaN</td>\n",
       "      <td>3.429103</td>\n",
       "      <td>NaN</td>\n",
       "      <td>NaN</td>\n",
       "      <td>NaN</td>\n",
       "      <td>NaN</td>\n",
       "      <td>38.167469</td>\n",
       "      <td>42.818294</td>\n",
       "    </tr>\n",
       "    <tr>\n",
       "      <th>std</th>\n",
       "      <td>0.0</td>\n",
       "      <td>6481.109862</td>\n",
       "      <td>0.499975</td>\n",
       "      <td>1.499925</td>\n",
       "      <td>2.017087e+08</td>\n",
       "      <td>0.370621</td>\n",
       "      <td>0.502593</td>\n",
       "      <td>0.090242</td>\n",
       "      <td>0.191927</td>\n",
       "      <td>5.789928</td>\n",
       "      <td>...</td>\n",
       "      <td>NaN</td>\n",
       "      <td>NaN</td>\n",
       "      <td>NaN</td>\n",
       "      <td>1.331328</td>\n",
       "      <td>NaN</td>\n",
       "      <td>NaN</td>\n",
       "      <td>NaN</td>\n",
       "      <td>NaN</td>\n",
       "      <td>31.523901</td>\n",
       "      <td>30.531224</td>\n",
       "    </tr>\n",
       "    <tr>\n",
       "      <th>min</th>\n",
       "      <td>1.0</td>\n",
       "      <td>1.000000</td>\n",
       "      <td>1.000000</td>\n",
       "      <td>3.600000</td>\n",
       "      <td>1.000000e+00</td>\n",
       "      <td>0.299600</td>\n",
       "      <td>0.145786</td>\n",
       "      <td>0.271488</td>\n",
       "      <td>0.039579</td>\n",
       "      <td>0.000000</td>\n",
       "      <td>...</td>\n",
       "      <td>NaN</td>\n",
       "      <td>NaN</td>\n",
       "      <td>NaN</td>\n",
       "      <td>1.000000</td>\n",
       "      <td>NaN</td>\n",
       "      <td>NaN</td>\n",
       "      <td>NaN</td>\n",
       "      <td>NaN</td>\n",
       "      <td>0.000000</td>\n",
       "      <td>0.000000</td>\n",
       "    </tr>\n",
       "    <tr>\n",
       "      <th>25%</th>\n",
       "      <td>1.0</td>\n",
       "      <td>2048.250000</td>\n",
       "      <td>1.000000</td>\n",
       "      <td>3.600000</td>\n",
       "      <td>1.004250e+03</td>\n",
       "      <td>0.837100</td>\n",
       "      <td>0.711973</td>\n",
       "      <td>0.271488</td>\n",
       "      <td>0.235176</td>\n",
       "      <td>2.000000</td>\n",
       "      <td>...</td>\n",
       "      <td>NaN</td>\n",
       "      <td>NaN</td>\n",
       "      <td>NaN</td>\n",
       "      <td>2.000000</td>\n",
       "      <td>NaN</td>\n",
       "      <td>NaN</td>\n",
       "      <td>NaN</td>\n",
       "      <td>NaN</td>\n",
       "      <td>5.000000</td>\n",
       "      <td>5.000000</td>\n",
       "    </tr>\n",
       "    <tr>\n",
       "      <th>50%</th>\n",
       "      <td>1.0</td>\n",
       "      <td>4095.500000</td>\n",
       "      <td>1.000000</td>\n",
       "      <td>6.600000</td>\n",
       "      <td>2.054500e+03</td>\n",
       "      <td>1.000000</td>\n",
       "      <td>0.840326</td>\n",
       "      <td>0.302006</td>\n",
       "      <td>0.354547</td>\n",
       "      <td>4.000000</td>\n",
       "      <td>...</td>\n",
       "      <td>NaN</td>\n",
       "      <td>NaN</td>\n",
       "      <td>NaN</td>\n",
       "      <td>4.000000</td>\n",
       "      <td>NaN</td>\n",
       "      <td>NaN</td>\n",
       "      <td>NaN</td>\n",
       "      <td>NaN</td>\n",
       "      <td>66.000000</td>\n",
       "      <td>66.000000</td>\n",
       "    </tr>\n",
       "    <tr>\n",
       "      <th>75%</th>\n",
       "      <td>1.0</td>\n",
       "      <td>14851.750000</td>\n",
       "      <td>2.000000</td>\n",
       "      <td>6.600000</td>\n",
       "      <td>3.858000e+03</td>\n",
       "      <td>1.000000</td>\n",
       "      <td>1.256671</td>\n",
       "      <td>0.447840</td>\n",
       "      <td>0.440493</td>\n",
       "      <td>6.000000</td>\n",
       "      <td>...</td>\n",
       "      <td>NaN</td>\n",
       "      <td>NaN</td>\n",
       "      <td>NaN</td>\n",
       "      <td>4.000000</td>\n",
       "      <td>NaN</td>\n",
       "      <td>NaN</td>\n",
       "      <td>NaN</td>\n",
       "      <td>NaN</td>\n",
       "      <td>66.000000</td>\n",
       "      <td>66.000000</td>\n",
       "    </tr>\n",
       "    <tr>\n",
       "      <th>max</th>\n",
       "      <td>1.0</td>\n",
       "      <td>16899.000000</td>\n",
       "      <td>2.000000</td>\n",
       "      <td>6.600000</td>\n",
       "      <td>9.214130e+08</td>\n",
       "      <td>4.000000</td>\n",
       "      <td>4.009830</td>\n",
       "      <td>0.483567</td>\n",
       "      <td>1.791360</td>\n",
       "      <td>99.000000</td>\n",
       "      <td>...</td>\n",
       "      <td>NaN</td>\n",
       "      <td>NaN</td>\n",
       "      <td>NaN</td>\n",
       "      <td>8.000000</td>\n",
       "      <td>NaN</td>\n",
       "      <td>NaN</td>\n",
       "      <td>NaN</td>\n",
       "      <td>NaN</td>\n",
       "      <td>99.000000</td>\n",
       "      <td>88.000000</td>\n",
       "    </tr>\n",
       "  </tbody>\n",
       "</table>\n",
       "<p>8 rows × 1440 columns</p>\n",
       "</div>"
      ],
      "text/plain": [
       "       cedition        cseqno     essround      edition          idno  \\\n",
       "count    8190.0   8190.000000  8190.000000  8190.000000  8.190000e+03   \n",
       "mean        1.0   8005.511355     1.492552     5.122344  9.049577e+07   \n",
       "std         0.0   6481.109862     0.499975     1.499925  2.017087e+08   \n",
       "min         1.0      1.000000     1.000000     3.600000  1.000000e+00   \n",
       "25%         1.0   2048.250000     1.000000     3.600000  1.004250e+03   \n",
       "50%         1.0   4095.500000     1.000000     6.600000  2.054500e+03   \n",
       "75%         1.0  14851.750000     2.000000     6.600000  3.858000e+03   \n",
       "max         1.0  16899.000000     2.000000     6.600000  9.214130e+08   \n",
       "\n",
       "           dweight      pspwght      pweight     anweight        tvtot  ...  \\\n",
       "count  8190.000000  8190.000000  8190.000000  8190.000000  8190.000000  ...   \n",
       "mean      1.000004     0.999814     0.366826     0.366742     4.356166  ...   \n",
       "std       0.370621     0.502593     0.090242     0.191927     5.789928  ...   \n",
       "min       0.299600     0.145786     0.271488     0.039579     0.000000  ...   \n",
       "25%       0.837100     0.711973     0.271488     0.235176     2.000000  ...   \n",
       "50%       1.000000     0.840326     0.302006     0.354547     4.000000  ...   \n",
       "75%       1.000000     1.256671     0.447840     0.440493     6.000000  ...   \n",
       "max       4.000000     4.009830     0.483567     1.791360    99.000000  ...   \n",
       "\n",
       "       enjlf  fltsd  cldgng      mnrgtjb  hrshsnt  hrshsnta  pdaprp  pdaprpa  \\\n",
       "count    0.0    0.0     0.0  4034.000000      0.0       0.0     0.0      0.0   \n",
       "mean     NaN    NaN     NaN     3.429103      NaN       NaN     NaN      NaN   \n",
       "std      NaN    NaN     NaN     1.331328      NaN       NaN     NaN      NaN   \n",
       "min      NaN    NaN     NaN     1.000000      NaN       NaN     NaN      NaN   \n",
       "25%      NaN    NaN     NaN     2.000000      NaN       NaN     NaN      NaN   \n",
       "50%      NaN    NaN     NaN     4.000000      NaN       NaN     NaN      NaN   \n",
       "75%      NaN    NaN     NaN     4.000000      NaN       NaN     NaN      NaN   \n",
       "max      NaN    NaN     NaN     8.000000      NaN       NaN     NaN      NaN   \n",
       "\n",
       "           smbtjob     smbtjoba  \n",
       "count  4156.000000  4034.000000  \n",
       "mean     38.167469    42.818294  \n",
       "std      31.523901    30.531224  \n",
       "min       0.000000     0.000000  \n",
       "25%       5.000000     5.000000  \n",
       "50%      66.000000    66.000000  \n",
       "75%      66.000000    66.000000  \n",
       "max      99.000000    88.000000  \n",
       "\n",
       "[8 rows x 1440 columns]"
      ]
     },
     "execution_count": 5,
     "metadata": {},
     "output_type": "execute_result"
    }
   ],
   "source": [
    "ESS_dataset.describe()"
   ]
  },
  {
   "cell_type": "markdown",
   "metadata": {},
   "source": [
    "\n",
    "# Included ESS rounds and corresponding variable counts:"
   ]
  },
  {
   "cell_type": "code",
   "execution_count": 6,
   "metadata": {},
   "outputs": [
    {
     "data": {
      "text/html": [
       "<div>\n",
       "<style scoped>\n",
       "    .dataframe tbody tr th:only-of-type {\n",
       "        vertical-align: middle;\n",
       "    }\n",
       "\n",
       "    .dataframe tbody tr th {\n",
       "        vertical-align: top;\n",
       "    }\n",
       "\n",
       "    .dataframe thead th {\n",
       "        text-align: right;\n",
       "    }\n",
       "</style>\n",
       "<table border=\"1\" class=\"dataframe\">\n",
       "  <thead>\n",
       "    <tr style=\"text-align: right;\">\n",
       "      <th></th>\n",
       "      <th>cntry</th>\n",
       "      <th>cname</th>\n",
       "      <th>cedition</th>\n",
       "      <th>cproddat</th>\n",
       "      <th>cseqno</th>\n",
       "      <th>essround</th>\n",
       "      <th>edition</th>\n",
       "      <th>idno</th>\n",
       "      <th>dweight</th>\n",
       "      <th>pspwght</th>\n",
       "      <th>...</th>\n",
       "      <th>enjlf</th>\n",
       "      <th>fltsd</th>\n",
       "      <th>cldgng</th>\n",
       "      <th>mnrgtjb</th>\n",
       "      <th>hrshsnt</th>\n",
       "      <th>hrshsnta</th>\n",
       "      <th>pdaprp</th>\n",
       "      <th>pdaprpa</th>\n",
       "      <th>smbtjob</th>\n",
       "      <th>smbtjoba</th>\n",
       "    </tr>\n",
       "    <tr>\n",
       "      <th>name</th>\n",
       "      <th></th>\n",
       "      <th></th>\n",
       "      <th></th>\n",
       "      <th></th>\n",
       "      <th></th>\n",
       "      <th></th>\n",
       "      <th></th>\n",
       "      <th></th>\n",
       "      <th></th>\n",
       "      <th></th>\n",
       "      <th></th>\n",
       "      <th></th>\n",
       "      <th></th>\n",
       "      <th></th>\n",
       "      <th></th>\n",
       "      <th></th>\n",
       "      <th></th>\n",
       "      <th></th>\n",
       "      <th></th>\n",
       "      <th></th>\n",
       "      <th></th>\n",
       "    </tr>\n",
       "  </thead>\n",
       "  <tbody>\n",
       "    <tr>\n",
       "      <th>ESS1e06_6</th>\n",
       "      <td>4156</td>\n",
       "      <td>4156</td>\n",
       "      <td>4156</td>\n",
       "      <td>4156</td>\n",
       "      <td>4156</td>\n",
       "      <td>4156</td>\n",
       "      <td>4156</td>\n",
       "      <td>4156</td>\n",
       "      <td>4156</td>\n",
       "      <td>4156</td>\n",
       "      <td>...</td>\n",
       "      <td>0</td>\n",
       "      <td>0</td>\n",
       "      <td>0</td>\n",
       "      <td>0</td>\n",
       "      <td>0</td>\n",
       "      <td>0</td>\n",
       "      <td>0</td>\n",
       "      <td>0</td>\n",
       "      <td>4156</td>\n",
       "      <td>0</td>\n",
       "    </tr>\n",
       "    <tr>\n",
       "      <th>ESS2e03_6</th>\n",
       "      <td>4034</td>\n",
       "      <td>4034</td>\n",
       "      <td>4034</td>\n",
       "      <td>4034</td>\n",
       "      <td>4034</td>\n",
       "      <td>4034</td>\n",
       "      <td>4034</td>\n",
       "      <td>4034</td>\n",
       "      <td>4034</td>\n",
       "      <td>4034</td>\n",
       "      <td>...</td>\n",
       "      <td>0</td>\n",
       "      <td>0</td>\n",
       "      <td>0</td>\n",
       "      <td>4034</td>\n",
       "      <td>0</td>\n",
       "      <td>0</td>\n",
       "      <td>0</td>\n",
       "      <td>0</td>\n",
       "      <td>0</td>\n",
       "      <td>4034</td>\n",
       "    </tr>\n",
       "  </tbody>\n",
       "</table>\n",
       "<p>2 rows × 1451 columns</p>\n",
       "</div>"
      ],
      "text/plain": [
       "           cntry  cname  cedition  cproddat  cseqno  essround  edition  idno  \\\n",
       "name                                                                           \n",
       "ESS1e06_6   4156   4156      4156      4156    4156      4156     4156  4156   \n",
       "ESS2e03_6   4034   4034      4034      4034    4034      4034     4034  4034   \n",
       "\n",
       "           dweight  pspwght  ...  enjlf  fltsd  cldgng  mnrgtjb  hrshsnt  \\\n",
       "name                         ...                                           \n",
       "ESS1e06_6     4156     4156  ...      0      0       0        0        0   \n",
       "ESS2e03_6     4034     4034  ...      0      0       0     4034        0   \n",
       "\n",
       "           hrshsnta  pdaprp  pdaprpa  smbtjob  smbtjoba  \n",
       "name                                                     \n",
       "ESS1e06_6         0       0        0     4156         0  \n",
       "ESS2e03_6         0       0        0        0      4034  \n",
       "\n",
       "[2 rows x 1451 columns]"
      ]
     },
     "execution_count": 6,
     "metadata": {},
     "output_type": "execute_result"
    }
   ],
   "source": [
    "\n",
    "ESS_dataset.groupby('name').count()\n"
   ]
  },
  {
   "cell_type": "code",
   "execution_count": 7,
   "metadata": {},
   "outputs": [
    {
     "data": {
      "text/plain": [
       "array(['AT', 'BE'], dtype=object)"
      ]
     },
     "execution_count": 7,
     "metadata": {},
     "output_type": "execute_result"
    }
   ],
   "source": [
    "ESS_dataset['cntry'].unique()"
   ]
  },
  {
   "cell_type": "code",
   "execution_count": 9,
   "metadata": {},
   "outputs": [],
   "source": [
    "df=ESS_dataset.copy()"
   ]
  },
  {
   "cell_type": "code",
   "execution_count": 10,
   "metadata": {},
   "outputs": [
    {
     "data": {
      "text/plain": [
       "Text(0.5, 0, '')"
      ]
     },
     "execution_count": 10,
     "metadata": {},
     "output_type": "execute_result"
    },
    {
     "data": {
      "image/png": "[encoded data removed]",
      "text/plain": [
       "<Figure size 864x576 with 1 Axes>"
      ]
     },
     "metadata": {
      "needs_background": "light"
     },
     "output_type": "display_data"
    }
   ],
   "source": [
    "plt.figure(figsize=(12, 8))\n",
    "sns.barplot(x=df['cntry'], y=df.ipcrtiv)\n",
    "plt.xlabel(\"\")\n",
    "#Human values"
   ]
  },
  {
   "cell_type": "code",
   "execution_count": 11,
   "metadata": {},
   "outputs": [
    {
     "data": {
      "text/plain": [
       "Text(0.5, 0, '')"
      ]
     },
     "execution_count": 11,
     "metadata": {},
     "output_type": "execute_result"
    },
    {
     "data": {
      "image/png": "[encoded data removed]",
      "text/plain": [
       "<Figure size 864x576 with 1 Axes>"
      ]
     },
     "metadata": {
      "needs_background": "light"
     },
     "output_type": "display_data"
    }
   ],
   "source": [
    "plt.figure(figsize=(12, 8))\n",
    "sns.barplot(x=df['cntry'], y=df.inwmms)\n",
    "plt.xlabel(\"\")\n",
    "#Administrative variables"
   ]
  },
  {
   "cell_type": "code",
   "execution_count": 12,
   "metadata": {},
   "outputs": [
    {
     "data": {
      "text/plain": [
       "Text(0.5, 0, '')"
      ]
     },
     "execution_count": 12,
     "metadata": {},
     "output_type": "execute_result"
    },
    {
     "data": {
      "image/png": "[encoded data removed]",
      "text/plain": [
       "<Figure size 864x576 with 1 Axes>"
      ]
     },
     "metadata": {
      "needs_background": "light"
     },
     "output_type": "display_data"
    }
   ],
   "source": [
    "plt.figure(figsize=(12, 8))\n",
    "sns.barplot(x=df['cntry'], y=df.pweight)\n",
    "plt.xlabel(\"\")\n",
    "#Weights"
   ]
  },
  {
   "cell_type": "code",
   "execution_count": 16,
   "metadata": {},
   "outputs": [
    {
     "data": {
      "text/plain": [
       "Text(0.5, 0, '')"
      ]
     },
     "execution_count": 16,
     "metadata": {},
     "output_type": "execute_result"
    },
    {
     "data": {
      "image/png": "[encoded data removed]",
      "text/plain": [
       "<Figure size 864x576 with 1 Axes>"
      ]
     },
     "metadata": {
      "needs_background": "light"
     },
     "output_type": "display_data"
    }
   ],
   "source": [
    "\n",
    "\n",
    "plt.figure(figsize=(12, 8))\n",
    "sns.barplot(x=df['cntry'], y=df.dfincac)\n",
    "plt.xlabel(\"\")\n",
    "#Welfare attitudes"
   ]
  },
  {
   "cell_type": "code",
   "execution_count": 17,
   "metadata": {},
   "outputs": [
    {
     "data": {
      "text/plain": [
       "Text(0.5, 0, '')"
      ]
     },
     "execution_count": 17,
     "metadata": {},
     "output_type": "execute_result"
    },
    {
     "data": {
      "image/png": "[encoded data removed]",
      "text/plain": [
       "<Figure size 864x576 with 1 Axes>"
      ]
     },
     "metadata": {
      "needs_background": "light"
     },
     "output_type": "display_data"
    }
   ],
   "source": [
    "plt.figure(figsize=(12, 8))\n",
    "sns.barplot(x=df['cntry'], y=df.nwspol)\n",
    "plt.xlabel(\"\")\n",
    "# social trust"
   ]
  },
  {
   "cell_type": "code",
   "execution_count": 18,
   "metadata": {},
   "outputs": [
    {
     "data": {
      "text/plain": [
       "<matplotlib.axes._subplots.AxesSubplot at 0x2d7c4908>"
      ]
     },
     "execution_count": 18,
     "metadata": {},
     "output_type": "execute_result"
    },
    {
     "data": {
      "image/png": "[encoded data removed]",
      "text/plain": [
       "<Figure size 432x288 with 1 Axes>"
      ]
     },
     "metadata": {
      "needs_background": "light"
     },
     "output_type": "display_data"
    }
   ],
   "source": [
    "sns.scatterplot(x=df['cntry'], y=df['pweight'])\n",
    "#Weights"
   ]
  },
  {
   "cell_type": "code",
   "execution_count": 19,
   "metadata": {},
   "outputs": [
    {
     "data": {
      "text/plain": [
       "<matplotlib.axes._subplots.AxesSubplot at 0x2d8a3108>"
      ]
     },
     "execution_count": 19,
     "metadata": {},
     "output_type": "execute_result"
    },
    {
     "data": {
      "image/png": "[encoded data removed]",
      "text/plain": [
       "<Figure size 432x288 with 1 Axes>"
      ]
     },
     "metadata": {
      "needs_background": "light"
     },
     "output_type": "display_data"
    }
   ],
   "source": [
    "\n",
    "\n",
    "sns.scatterplot(x=df['cntry'], y=df['inwsmm'])\n",
    "#Administrative variables\n",
    "\n"
   ]
  },
  {
   "cell_type": "markdown",
   "metadata": {},
   "source": [
    "# Conlusion :\n",
    "\n",
    "I take a look to find many useful resources that help us extract meaningful patterns from this data base.\n",
    "\n",
    "As Example this link :\n",
    "\n",
    "https://github.com/bytesbysophie/european-social-survey-media-use/blob/master/data/EuropeanSocialSurvey_Round_1-5_Germany_clean.csv\n",
    "\n",
    "The author motivation for using this data and how it help  answer his buisness requirements :\n",
    "\n",
    "     Journalism plays a crucial role in securing democratic structures like in Germany by informing citizens and empowering them to participate in politics. All the more worrying is the worsening economic situation of the newspaper business, which has not yet been managed to compensate by new digital products and business models (apart from a few exceptions propably). Thus, understanding the media use and it's implications for the political participation and opinions is crutial for both, media publishers and politics. As a first attempt, following questions have been investigated, using data provided by the European Social Survey in several rounds/ years:\n",
    "\n",
    "    - Traditionalism & Newspaper Use: Are respondents who affirm the importance to follow traditions and customs more likely to read newspapers than respondents who disagree?\n",
    "    - Political newspaper use & participation in the last national vote: Are respondents who regularly use newspapers for political information more likely to have voted in the last national election?\n",
    "    - Demographics & Party Preference Of Non Newspaper Users: Can we identfy people who don't use newspapers based on their socio-demographic profile and their answer to which party they feel closer to?\n",
    "\n",
    "# How can we use this data in the futur \n",
    "- Study all features with more depth \n",
    "\n",
    "- Look for your Business requirement \n",
    "\n",
    "- Check if we can answer your requirement by the features of this data base\n",
    "\n",
    "**Example of other inspiration study :**\n",
    "\n",
    "\n",
    "How do the citizens of European countries think about certain social issues? What about climate change, politics, immigration, individual well-being? How do peoples opinions and believes differ within a country or among the countries?\n",
    "Let's dive into this great data set and find out."
   ]
  }
 ],
 "metadata": {
  "kernelspec": {
   "display_name": "Python 3",
   "language": "python",
   "name": "python3"
  },
  "language_info": {
   "codemirror_mode": {
    "name": "ipython",
    "version": 3
   },
   "file_extension": ".py",
   "mimetype": "text/x-python",
   "name": "python",
   "nbconvert_exporter": "python",
   "pygments_lexer": "ipython3",
   "version": "3.7.6"
  }
 },
 "nbformat": 4,
 "nbformat_minor": 4
}
